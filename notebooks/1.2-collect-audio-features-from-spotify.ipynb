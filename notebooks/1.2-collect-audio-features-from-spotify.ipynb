{
 "cells": [
  {
   "cell_type": "code",
   "execution_count": 1,
   "metadata": {},
   "outputs": [],
   "source": [
    "import requests\n",
    "import spotipy\n",
    "from spotipy.oauth2 import SpotifyClientCredentials\n",
    "import pandas as pd"
   ]
  },
  {
   "cell_type": "code",
   "execution_count": 2,
   "metadata": {},
   "outputs": [],
   "source": [
    "CLIENT_ID = '4a369d6bbccb492e9a425211173f2feb'\n",
    "CLIENT_SECRET = '162a44fc5ac4438c829dcd0416c7bfe4'\n",
    "client_credentials_manager = SpotifyClientCredentials(client_id=CLIENT_ID, client_secret=CLIENT_SECRET)\n",
    "sp = spotipy.Spotify(client_credentials_manager=client_credentials_manager) #spotify object to access API"
   ]
  },
  {
   "cell_type": "code",
   "execution_count": 3,
   "metadata": {},
   "outputs": [],
   "source": [
    "AUTH_URL = 'https://accounts.spotify.com/api/token'\n",
    "\n",
    "# POST\n",
    "auth_response = requests.post(AUTH_URL, {\n",
    "    'grant_type': 'client_credentials',\n",
    "    'client_id': CLIENT_ID,\n",
    "    'client_secret': CLIENT_SECRET,\n",
    "})\n",
    "\n",
    "# convert the response to JSON\n",
    "auth_response_data = auth_response.json()\n",
    "\n",
    "# save the access token\n",
    "access_token = auth_response_data['access_token']"
   ]
  },
  {
   "cell_type": "code",
   "execution_count": 4,
   "metadata": {},
   "outputs": [],
   "source": [
    "headers = {\n",
    "    'Authorization': 'Bearer {token}'.format(token=access_token)\n",
    "}"
   ]
  },
  {
   "cell_type": "raw",
   "metadata": {
    "tags": []
   },
   "source": [
    "artist = \"Johnny Preston\"\n",
    "song = \"Running Bear\"\n",
    "sres = sp.search(q=\"artist:\" + artist + \" track:\" + song, type=\"track\")"
   ]
  },
  {
   "cell_type": "raw",
   "metadata": {},
   "source": [
    "t = sres['tracks']"
   ]
  },
  {
   "cell_type": "raw",
   "metadata": {},
   "source": [
    "t.keys()"
   ]
  },
  {
   "cell_type": "raw",
   "metadata": {},
   "source": [
    "t['total']"
   ]
  },
  {
   "cell_type": "raw",
   "metadata": {},
   "source": [
    "a,b,c,d,e = t['items']"
   ]
  },
  {
   "cell_type": "raw",
   "metadata": {},
   "source": [
    "a.keys()"
   ]
  },
  {
   "cell_type": "raw",
   "metadata": {},
   "source": [
    "a['name']"
   ]
  },
  {
   "cell_type": "raw",
   "metadata": {},
   "source": [
    "b['name']"
   ]
  },
  {
   "cell_type": "raw",
   "metadata": {},
   "source": [
    "a['uri'].split(':')[-1]"
   ]
  },
  {
   "cell_type": "raw",
   "metadata": {},
   "source": [
    "sres['tracks']['items'][0]['uri'].split(':')[-1]"
   ]
  },
  {
   "cell_type": "code",
   "execution_count": 5,
   "metadata": {},
   "outputs": [],
   "source": [
    "BASE_URL = 'https://api.spotify.com/v1/'\n",
    "\n",
    "def get_audio_features(artist, song):\n",
    "    sres = sp.search(q=\"artist:\" + artist + \" track:\" + song, type=\"track\")\n",
    "    # no result found\n",
    "    if not sres['tracks']['items']:\n",
    "        return None\n",
    "    else:\n",
    "        track_id = sres['tracks']['items'][0]['uri'].split(':')[-1]\n",
    "        req = requests.get(BASE_URL + 'audio-features/' + track_id, headers=headers)\n",
    "        return req.json()"
   ]
  },
  {
   "cell_type": "raw",
   "metadata": {},
   "source": [
    "r = get_audio_features(artist, song)"
   ]
  },
  {
   "cell_type": "raw",
   "metadata": {},
   "source": [
    "r"
   ]
  },
  {
   "cell_type": "raw",
   "metadata": {},
   "source": [
    "import pandas as pd\n",
    "\n",
    "data = pd.read_csv(\"../data/interim/lyrics-meta/lyrics_bb_hot_100_2020.csv\")\n",
    "data.head(10)"
   ]
  },
  {
   "cell_type": "code",
   "execution_count": 6,
   "metadata": {},
   "outputs": [
    {
     "name": "stdout",
     "output_type": "stream",
     "text": [
      "year done: 2005\n",
      "year done: 2006\n",
      "year done: 2007\n",
      "year done: 2008\n",
      "year done: 2009\n",
      "year done: 2010\n",
      "year done: 2011\n",
      "year done: 2012\n",
      "year done: 2013\n",
      "year done: 2014\n",
      "year done: 2015\n",
      "year done: 2016\n",
      "year done: 2017\n",
      "year done: 2018\n",
      "year done: 2019\n",
      "year done: 2020\n"
     ]
    }
   ],
   "source": [
    "# collect audio features for tracks we have lyrics available for\n",
    "charts_path = \"../data/interim/lyrics-meta/\"\n",
    "\n",
    "for year in range(2005,2021):\n",
    "    in_path = charts_path+\"lyrics_bb_hot_100_\"+str(year)+\".csv\"\n",
    "    data = pd.read_csv(in_path)\n",
    "    \n",
    "    d = []\n",
    "    for index, row in data.iterrows():\n",
    "        # try getting audio features\n",
    "        if get_audio_features(row[\"artist\"], row[\"song\"]) is not None:\n",
    "            afeat_dict = get_audio_features(row[\"artist\"], row[\"song\"])\n",
    "            # print(afeat_dict) {'error': {'status': 404, 'message': 'analysis not found'}}\n",
    "            # should be handled in dunction above\n",
    "            if 'error' in afeat_dict.keys():\n",
    "                if afeat_dict['error']['status'] == 404:\n",
    "                    continue\n",
    "                else:\n",
    "                    print(afeat_dict['error'])\n",
    "        \n",
    "            d.append({\n",
    "                \"artist\" : row[\"artist\"],\n",
    "                \"song\" : row[\"song\"],\n",
    "                \"lyricId\" : row[\"lyricId\"],\n",
    "                \"danceability\": afeat_dict[\"danceability\"],\n",
    "                \"energy\": afeat_dict[\"energy\"],\n",
    "                \"key\": afeat_dict[\"key\"],\n",
    "                \"loudness\": afeat_dict[\"loudness\"],\n",
    "                \"mode\": afeat_dict[\"mode\"],\n",
    "                \"speechiness\": afeat_dict[\"speechiness\"],\n",
    "                \"acousticness\": afeat_dict[\"acousticness\"],\n",
    "                \"instrumentalness\": afeat_dict[\"instrumentalness\"],\n",
    "                \"liveness\": afeat_dict[\"liveness\"],\n",
    "                \"valence\": afeat_dict[\"valence\"],\n",
    "                \"tempo\": afeat_dict[\"tempo\"],\n",
    "                \"uri\": afeat_dict[\"uri\"],\n",
    "                \"duration_ms\": afeat_dict[\"duration_ms\"]\n",
    "            })\n",
    "    \n",
    "    afeat_data = pd.DataFrame(d)\n",
    "    out_path = \"../data/interim/audio-feat/afeat_bb_hot_100_\" + str(year) + \".csv\"\n",
    "    afeat_data.to_csv(out_path, index=False)\n",
    "    print(\"year done: {}\".format(year))"
   ]
  },
  {
   "cell_type": "code",
   "execution_count": null,
   "metadata": {},
   "outputs": [],
   "source": []
  }
 ],
 "metadata": {
  "kernelspec": {
   "display_name": "Python 3",
   "language": "python",
   "name": "python3"
  },
  "language_info": {
   "codemirror_mode": {
    "name": "ipython",
    "version": 3
   },
   "file_extension": ".py",
   "mimetype": "text/x-python",
   "name": "python",
   "nbconvert_exporter": "python",
   "pygments_lexer": "ipython3",
   "version": "3.9.5"
  },
  "metadata": {
   "interpreter": {
    "hash": "cdfdcfad88728baa092b25c6c9a12dffc84e5419cef4440abd00150d4bcc4479"
   }
  }
 },
 "nbformat": 4,
 "nbformat_minor": 4
}
