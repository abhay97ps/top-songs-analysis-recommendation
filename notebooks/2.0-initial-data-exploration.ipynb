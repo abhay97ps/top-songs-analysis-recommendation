{
 "cells": [
  {
   "cell_type": "code",
   "execution_count": 40,
   "metadata": {},
   "outputs": [],
   "source": [
    "import pandas as pd"
   ]
  },
  {
   "cell_type": "code",
   "execution_count": 41,
   "metadata": {},
   "outputs": [],
   "source": [
    "interim_path = \"../data/interim/\""
   ]
  },
  {
   "cell_type": "code",
   "execution_count": 42,
   "metadata": {},
   "outputs": [],
   "source": [
    "#check billboard charts\n",
    "cpaths = [interim_path + \"charts/bb_hot_100_\" + str(x) + \".csv\" for x in range(1960,2021)]\n",
    "all_data = []\n",
    "for path in cpaths:\n",
    "    data = pd.read_csv(path)\n",
    "    for index, row in data.iterrows():\n",
    "        all_data.append({\n",
    "            \"date\" : row[\"date\"],\n",
    "            \"rank\" : row[\"rank\"],\n",
    "            \"artist\" : row[\"artist\"],\n",
    "            \"song\" : row[\"song\"],\n",
    "            \"lyricId\" : row[\"lyricId\"]\n",
    "        })\n",
    "HOT_CHART_DATA = pd.DataFrame(all_data)"
   ]
  },
  {
   "cell_type": "code",
   "execution_count": 43,
   "metadata": {},
   "outputs": [
    {
     "data": {
      "text/html": [
       "<div>\n",
       "<style scoped>\n",
       "    .dataframe tbody tr th:only-of-type {\n",
       "        vertical-align: middle;\n",
       "    }\n",
       "\n",
       "    .dataframe tbody tr th {\n",
       "        vertical-align: top;\n",
       "    }\n",
       "\n",
       "    .dataframe thead th {\n",
       "        text-align: right;\n",
       "    }\n",
       "</style>\n",
       "<table border=\"1\" class=\"dataframe\">\n",
       "  <thead>\n",
       "    <tr style=\"text-align: right;\">\n",
       "      <th></th>\n",
       "      <th>date</th>\n",
       "      <th>rank</th>\n",
       "      <th>artist</th>\n",
       "      <th>song</th>\n",
       "      <th>lyricId</th>\n",
       "    </tr>\n",
       "  </thead>\n",
       "  <tbody>\n",
       "    <tr>\n",
       "      <th>0</th>\n",
       "      <td>1960-01-02</td>\n",
       "      <td>1</td>\n",
       "      <td>Marty Robbins</td>\n",
       "      <td>El Paso</td>\n",
       "      <td>1</td>\n",
       "    </tr>\n",
       "    <tr>\n",
       "      <th>1</th>\n",
       "      <td>1960-01-02</td>\n",
       "      <td>2</td>\n",
       "      <td>Frankie Avalon</td>\n",
       "      <td>Why</td>\n",
       "      <td>2</td>\n",
       "    </tr>\n",
       "    <tr>\n",
       "      <th>2</th>\n",
       "      <td>1960-01-02</td>\n",
       "      <td>3</td>\n",
       "      <td>Miss Toni Fisher</td>\n",
       "      <td>The Big Hurt</td>\n",
       "      <td>3</td>\n",
       "    </tr>\n",
       "    <tr>\n",
       "      <th>3</th>\n",
       "      <td>1960-01-02</td>\n",
       "      <td>4</td>\n",
       "      <td>Johnny Preston</td>\n",
       "      <td>Running Bear</td>\n",
       "      <td>4</td>\n",
       "    </tr>\n",
       "    <tr>\n",
       "      <th>4</th>\n",
       "      <td>1960-01-02</td>\n",
       "      <td>5</td>\n",
       "      <td>Freddie Cannon</td>\n",
       "      <td>Way Down Yonder In New Orleans</td>\n",
       "      <td>-1</td>\n",
       "    </tr>\n",
       "  </tbody>\n",
       "</table>\n",
       "</div>"
      ],
      "text/plain": [
       "         date  rank            artist                            song  lyricId\n",
       "0  1960-01-02     1     Marty Robbins                         El Paso        1\n",
       "1  1960-01-02     2    Frankie Avalon                             Why        2\n",
       "2  1960-01-02     3  Miss Toni Fisher                    The Big Hurt        3\n",
       "3  1960-01-02     4    Johnny Preston                    Running Bear        4\n",
       "4  1960-01-02     5    Freddie Cannon  Way Down Yonder In New Orleans       -1"
      ]
     },
     "execution_count": 43,
     "metadata": {},
     "output_type": "execute_result"
    }
   ],
   "source": [
    "# make a copy \n",
    "data = HOT_CHART_DATA\n",
    "data.head(5)"
   ]
  },
  {
   "cell_type": "code",
   "execution_count": 52,
   "metadata": {},
   "outputs": [
    {
     "name": "stdout",
     "output_type": "stream",
     "text": [
      "(1817, 3)\n"
     ]
    }
   ],
   "source": [
    "total_entries = data.shape[0]\n",
    "# number of missing lyrics \n",
    "print(data[data['lyricId']==-1].groupby([\"artist\", \"song\"]).size().reset_index().shape)"
   ]
  },
  {
   "cell_type": "code",
   "execution_count": 53,
   "metadata": {},
   "outputs": [],
   "source": [
    "temp = data.groupby([\"artist\", \"song\"]).size().reset_index()"
   ]
  },
  {
   "cell_type": "code",
   "execution_count": 54,
   "metadata": {},
   "outputs": [
    {
     "data": {
      "text/plain": [
       "pandas.core.frame.DataFrame"
      ]
     },
     "execution_count": 54,
     "metadata": {},
     "output_type": "execute_result"
    }
   ],
   "source": [
    "type(temp) # not a series?"
   ]
  },
  {
   "cell_type": "code",
   "execution_count": 55,
   "metadata": {},
   "outputs": [
    {
     "data": {
      "text/html": [
       "<div>\n",
       "<style scoped>\n",
       "    .dataframe tbody tr th:only-of-type {\n",
       "        vertical-align: middle;\n",
       "    }\n",
       "\n",
       "    .dataframe tbody tr th {\n",
       "        vertical-align: top;\n",
       "    }\n",
       "\n",
       "    .dataframe thead th {\n",
       "        text-align: right;\n",
       "    }\n",
       "</style>\n",
       "<table border=\"1\" class=\"dataframe\">\n",
       "  <thead>\n",
       "    <tr style=\"text-align: right;\">\n",
       "      <th></th>\n",
       "      <th>artist</th>\n",
       "      <th>song</th>\n",
       "      <th>0</th>\n",
       "    </tr>\n",
       "  </thead>\n",
       "  <tbody>\n",
       "    <tr>\n",
       "      <th>10818</th>\n",
       "      <td>Imagine Dragons</td>\n",
       "      <td>Radioactive</td>\n",
       "      <td>87</td>\n",
       "    </tr>\n",
       "    <tr>\n",
       "      <th>399</th>\n",
       "      <td>AWOLNATION</td>\n",
       "      <td>Sail</td>\n",
       "      <td>79</td>\n",
       "    </tr>\n",
       "    <tr>\n",
       "      <th>11603</th>\n",
       "      <td>Jason Mraz</td>\n",
       "      <td>I'm Yours</td>\n",
       "      <td>76</td>\n",
       "    </tr>\n",
       "    <tr>\n",
       "      <th>14461</th>\n",
       "      <td>LeAnn Rimes</td>\n",
       "      <td>How Do I Live</td>\n",
       "      <td>69</td>\n",
       "    </tr>\n",
       "    <tr>\n",
       "      <th>18097</th>\n",
       "      <td>OneRepublic</td>\n",
       "      <td>Counting Stars</td>\n",
       "      <td>68</td>\n",
       "    </tr>\n",
       "    <tr>\n",
       "      <th>...</th>\n",
       "      <td>...</td>\n",
       "      <td>...</td>\n",
       "      <td>...</td>\n",
       "    </tr>\n",
       "    <tr>\n",
       "      <th>20040</th>\n",
       "      <td>Rick Ross Featuring Ne-Yo</td>\n",
       "      <td>Super High</td>\n",
       "      <td>1</td>\n",
       "    </tr>\n",
       "    <tr>\n",
       "      <th>20046</th>\n",
       "      <td>Rick Ross Featuring Young Thug &amp; Wale</td>\n",
       "      <td>Trap Trap Trap</td>\n",
       "      <td>1</td>\n",
       "    </tr>\n",
       "    <tr>\n",
       "      <th>6436</th>\n",
       "      <td>Dia Frampton</td>\n",
       "      <td>Inventing Shadows</td>\n",
       "      <td>1</td>\n",
       "    </tr>\n",
       "    <tr>\n",
       "      <th>20088</th>\n",
       "      <td>Ricky Nelson</td>\n",
       "      <td>If You Can't Rock Me</td>\n",
       "      <td>1</td>\n",
       "    </tr>\n",
       "    <tr>\n",
       "      <th>20452</th>\n",
       "      <td>Romeo Santos</td>\n",
       "      <td>Imitadora</td>\n",
       "      <td>1</td>\n",
       "    </tr>\n",
       "  </tbody>\n",
       "</table>\n",
       "<p>28314 rows × 3 columns</p>\n",
       "</div>"
      ],
      "text/plain": [
       "                                      artist                  song   0\n",
       "10818                        Imagine Dragons           Radioactive  87\n",
       "399                               AWOLNATION                  Sail  79\n",
       "11603                             Jason Mraz             I'm Yours  76\n",
       "14461                            LeAnn Rimes         How Do I Live  69\n",
       "18097                            OneRepublic        Counting Stars  68\n",
       "...                                      ...                   ...  ..\n",
       "20040              Rick Ross Featuring Ne-Yo            Super High   1\n",
       "20046  Rick Ross Featuring Young Thug & Wale        Trap Trap Trap   1\n",
       "6436                            Dia Frampton     Inventing Shadows   1\n",
       "20088                           Ricky Nelson  If You Can't Rock Me   1\n",
       "20452                           Romeo Santos             Imitadora   1\n",
       "\n",
       "[28314 rows x 3 columns]"
      ]
     },
     "execution_count": 55,
     "metadata": {},
     "output_type": "execute_result"
    }
   ],
   "source": [
    "# check artists with most total weeks on billboard 1960-2020 inclusive\n",
    "temp.sort_values(by=[0], ascending=False)"
   ]
  },
  {
   "cell_type": "code",
   "execution_count": 56,
   "metadata": {},
   "outputs": [
    {
     "data": {
      "text/html": [
       "<div>\n",
       "<style scoped>\n",
       "    .dataframe tbody tr th:only-of-type {\n",
       "        vertical-align: middle;\n",
       "    }\n",
       "\n",
       "    .dataframe tbody tr th {\n",
       "        vertical-align: top;\n",
       "    }\n",
       "\n",
       "    .dataframe thead th {\n",
       "        text-align: right;\n",
       "    }\n",
       "</style>\n",
       "<table border=\"1\" class=\"dataframe\">\n",
       "  <thead>\n",
       "    <tr style=\"text-align: right;\">\n",
       "      <th></th>\n",
       "      <th>artist</th>\n",
       "      <th>0</th>\n",
       "    </tr>\n",
       "  </thead>\n",
       "  <tbody>\n",
       "    <tr>\n",
       "      <th>7837</th>\n",
       "      <td>Taylor Swift</td>\n",
       "      <td>991</td>\n",
       "    </tr>\n",
       "    <tr>\n",
       "      <th>2553</th>\n",
       "      <td>Elton John</td>\n",
       "      <td>889</td>\n",
       "    </tr>\n",
       "    <tr>\n",
       "      <th>5320</th>\n",
       "      <td>Madonna</td>\n",
       "      <td>857</td>\n",
       "    </tr>\n",
       "    <tr>\n",
       "      <th>4517</th>\n",
       "      <td>Kenny Chesney</td>\n",
       "      <td>750</td>\n",
       "    </tr>\n",
       "    <tr>\n",
       "      <th>2366</th>\n",
       "      <td>Drake</td>\n",
       "      <td>735</td>\n",
       "    </tr>\n",
       "    <tr>\n",
       "      <th>...</th>\n",
       "      <td>...</td>\n",
       "      <td>...</td>\n",
       "    </tr>\n",
       "    <tr>\n",
       "      <th>1068</th>\n",
       "      <td>Bow Wow Featuring Lil Wayne</td>\n",
       "      <td>1</td>\n",
       "    </tr>\n",
       "    <tr>\n",
       "      <th>5639</th>\n",
       "      <td>Metro Boomin Featuring Swae Lee &amp; Travis Scott</td>\n",
       "      <td>1</td>\n",
       "    </tr>\n",
       "    <tr>\n",
       "      <th>5640</th>\n",
       "      <td>Metro Boomin Featuring Travis Scott</td>\n",
       "      <td>1</td>\n",
       "    </tr>\n",
       "    <tr>\n",
       "      <th>5641</th>\n",
       "      <td>Metro Boomin Featuring Travis Scott &amp; Young Thug</td>\n",
       "      <td>1</td>\n",
       "    </tr>\n",
       "    <tr>\n",
       "      <th>3757</th>\n",
       "      <td>Janet &amp; Daddy Yankee</td>\n",
       "      <td>1</td>\n",
       "    </tr>\n",
       "  </tbody>\n",
       "</table>\n",
       "<p>9708 rows × 2 columns</p>\n",
       "</div>"
      ],
      "text/plain": [
       "                                                artist    0\n",
       "7837                                      Taylor Swift  991\n",
       "2553                                        Elton John  889\n",
       "5320                                           Madonna  857\n",
       "4517                                     Kenny Chesney  750\n",
       "2366                                             Drake  735\n",
       "...                                                ...  ...\n",
       "1068                       Bow Wow Featuring Lil Wayne    1\n",
       "5639    Metro Boomin Featuring Swae Lee & Travis Scott    1\n",
       "5640               Metro Boomin Featuring Travis Scott    1\n",
       "5641  Metro Boomin Featuring Travis Scott & Young Thug    1\n",
       "3757                              Janet & Daddy Yankee    1\n",
       "\n",
       "[9708 rows x 2 columns]"
      ]
     },
     "execution_count": 56,
     "metadata": {},
     "output_type": "execute_result"
    }
   ],
   "source": [
    "# artsit with most weeks on billboard hot 100 \n",
    "tt = temp.groupby(['artist']).sum().reset_index()\n",
    "tt.sort_values(by=[0], ascending=False)"
   ]
  },
  {
   "cell_type": "code",
   "execution_count": 57,
   "metadata": {},
   "outputs": [
    {
     "name": "stdout",
     "output_type": "stream",
     "text": [
      "28314\n"
     ]
    }
   ],
   "source": [
    "# number of unique tracks over 60 years\n",
    "uniq_tracks = temp.shape[0]\n",
    "print(uniq_tracks)"
   ]
  },
  {
   "cell_type": "code",
   "execution_count": 59,
   "metadata": {},
   "outputs": [
    {
     "data": {
      "text/plain": [
       "8.89574503514124"
      ]
     },
     "execution_count": 59,
     "metadata": {},
     "output_type": "execute_result"
    }
   ],
   "source": [
    "# percent of unique songs -> approx 9% of all mentions are unique\n",
    "100*uniq_tracks/HOT_CHART_DATA.shape[0]"
   ]
  },
  {
   "cell_type": "code",
   "execution_count": 60,
   "metadata": {},
   "outputs": [],
   "source": [
    "#check lyrics metadata\n",
    "cpaths = [interim_path + \"lyrics-meta/lyrics_bb_hot_100_\" + str(x) + \".csv\" for x in range(1960,2021)]\n",
    "all_data = []\n",
    "for path in cpaths:\n",
    "    data = pd.read_csv(path)\n",
    "    for index, row in data.iterrows():\n",
    "        all_data.append({\n",
    "            \"sentiment_comp\" : row[\"sentiment_comp\"],\n",
    "            \"sentiment_pos\" : row[\"sentiment_pos\"],\n",
    "            \"sentiment_neg\" : row[\"sentiment_neg\"],\n",
    "            \"sentiment_neu\" : row[\"sentiment_neu\"],\n",
    "            \"f_k_grade\" : row[\"f_k_grade\"],\n",
    "            \"flesch_index\" : row[\"flesch_index\"],\n",
    "            \"fog_index\" : row[\"fog_index\"],\n",
    "            \"difficult_words\" : row[\"difficult_words\"],\n",
    "            \"num_syllables\" : row[\"num_syllables\"],\n",
    "            \"num_words\" : row[\"num_words\"],\n",
    "            \"num_lines\" : row[\"num_lines\"],\n",
    "            \"num_dup\" : row[\"num_dup\"],            \n",
    "            \"artist\" : row[\"artist\"],\n",
    "            \"song\" : row[\"song\"],\n",
    "            \"lyricId\" : row[\"lyricId\"]\n",
    "        })\n",
    "LYRICS_META_DATA = pd.DataFrame(all_data)"
   ]
  },
  {
   "cell_type": "code",
   "execution_count": 61,
   "metadata": {},
   "outputs": [
    {
     "data": {
      "text/html": [
       "<div>\n",
       "<style scoped>\n",
       "    .dataframe tbody tr th:only-of-type {\n",
       "        vertical-align: middle;\n",
       "    }\n",
       "\n",
       "    .dataframe tbody tr th {\n",
       "        vertical-align: top;\n",
       "    }\n",
       "\n",
       "    .dataframe thead th {\n",
       "        text-align: right;\n",
       "    }\n",
       "</style>\n",
       "<table border=\"1\" class=\"dataframe\">\n",
       "  <thead>\n",
       "    <tr style=\"text-align: right;\">\n",
       "      <th></th>\n",
       "      <th>sentiment_comp</th>\n",
       "      <th>sentiment_pos</th>\n",
       "      <th>sentiment_neg</th>\n",
       "      <th>sentiment_neu</th>\n",
       "      <th>f_k_grade</th>\n",
       "      <th>flesch_index</th>\n",
       "      <th>fog_index</th>\n",
       "      <th>difficult_words</th>\n",
       "      <th>num_syllables</th>\n",
       "      <th>num_words</th>\n",
       "      <th>num_lines</th>\n",
       "      <th>num_dup</th>\n",
       "      <th>artist</th>\n",
       "      <th>song</th>\n",
       "      <th>lyricId</th>\n",
       "    </tr>\n",
       "  </thead>\n",
       "  <tbody>\n",
       "    <tr>\n",
       "      <th>0</th>\n",
       "      <td>0.3568</td>\n",
       "      <td>0.164</td>\n",
       "      <td>0.160</td>\n",
       "      <td>0.676</td>\n",
       "      <td>1.7</td>\n",
       "      <td>97.09</td>\n",
       "      <td>3.75</td>\n",
       "      <td>40</td>\n",
       "      <td>541</td>\n",
       "      <td>469</td>\n",
       "      <td>58</td>\n",
       "      <td>0</td>\n",
       "      <td>Marty Robbins</td>\n",
       "      <td>El Paso</td>\n",
       "      <td>1</td>\n",
       "    </tr>\n",
       "    <tr>\n",
       "      <th>1</th>\n",
       "      <td>0.9991</td>\n",
       "      <td>0.532</td>\n",
       "      <td>0.031</td>\n",
       "      <td>0.437</td>\n",
       "      <td>-0.4</td>\n",
       "      <td>107.79</td>\n",
       "      <td>2.62</td>\n",
       "      <td>3</td>\n",
       "      <td>175</td>\n",
       "      <td>154</td>\n",
       "      <td>26</td>\n",
       "      <td>4</td>\n",
       "      <td>Frankie Avalon</td>\n",
       "      <td>Why</td>\n",
       "      <td>2</td>\n",
       "    </tr>\n",
       "    <tr>\n",
       "      <th>2</th>\n",
       "      <td>0.9998</td>\n",
       "      <td>0.113</td>\n",
       "      <td>0.086</td>\n",
       "      <td>0.801</td>\n",
       "      <td>5.7</td>\n",
       "      <td>65.28</td>\n",
       "      <td>3.78</td>\n",
       "      <td>1402</td>\n",
       "      <td>16420</td>\n",
       "      <td>10567</td>\n",
       "      <td>1726</td>\n",
       "      <td>5</td>\n",
       "      <td>Miss Toni Fisher</td>\n",
       "      <td>The Big Hurt</td>\n",
       "      <td>3</td>\n",
       "    </tr>\n",
       "    <tr>\n",
       "      <th>3</th>\n",
       "      <td>0.9982</td>\n",
       "      <td>0.322</td>\n",
       "      <td>0.022</td>\n",
       "      <td>0.657</td>\n",
       "      <td>2.2</td>\n",
       "      <td>90.46</td>\n",
       "      <td>2.52</td>\n",
       "      <td>5</td>\n",
       "      <td>275</td>\n",
       "      <td>220</td>\n",
       "      <td>35</td>\n",
       "      <td>9</td>\n",
       "      <td>Johnny Preston</td>\n",
       "      <td>Running Bear</td>\n",
       "      <td>4</td>\n",
       "    </tr>\n",
       "    <tr>\n",
       "      <th>4</th>\n",
       "      <td>0.9924</td>\n",
       "      <td>0.280</td>\n",
       "      <td>0.119</td>\n",
       "      <td>0.601</td>\n",
       "      <td>1.2</td>\n",
       "      <td>103.83</td>\n",
       "      <td>3.92</td>\n",
       "      <td>3</td>\n",
       "      <td>243</td>\n",
       "      <td>216</td>\n",
       "      <td>22</td>\n",
       "      <td>9</td>\n",
       "      <td>Guy Mitchell</td>\n",
       "      <td>Heartaches By The Number</td>\n",
       "      <td>5</td>\n",
       "    </tr>\n",
       "  </tbody>\n",
       "</table>\n",
       "</div>"
      ],
      "text/plain": [
       "   sentiment_comp  sentiment_pos  sentiment_neg  sentiment_neu  f_k_grade  \\\n",
       "0          0.3568          0.164          0.160          0.676        1.7   \n",
       "1          0.9991          0.532          0.031          0.437       -0.4   \n",
       "2          0.9998          0.113          0.086          0.801        5.7   \n",
       "3          0.9982          0.322          0.022          0.657        2.2   \n",
       "4          0.9924          0.280          0.119          0.601        1.2   \n",
       "\n",
       "   flesch_index  fog_index  difficult_words  num_syllables  num_words  \\\n",
       "0         97.09       3.75               40            541        469   \n",
       "1        107.79       2.62                3            175        154   \n",
       "2         65.28       3.78             1402          16420      10567   \n",
       "3         90.46       2.52                5            275        220   \n",
       "4        103.83       3.92                3            243        216   \n",
       "\n",
       "   num_lines  num_dup            artist                      song  lyricId  \n",
       "0         58        0     Marty Robbins                   El Paso        1  \n",
       "1         26        4    Frankie Avalon                       Why        2  \n",
       "2       1726        5  Miss Toni Fisher              The Big Hurt        3  \n",
       "3         35        9    Johnny Preston              Running Bear        4  \n",
       "4         22        9      Guy Mitchell  Heartaches By The Number        5  "
      ]
     },
     "execution_count": 61,
     "metadata": {},
     "output_type": "execute_result"
    }
   ],
   "source": [
    "data = LYRICS_META_DATA\n",
    "data.head(5)"
   ]
  },
  {
   "cell_type": "code",
   "execution_count": 62,
   "metadata": {},
   "outputs": [
    {
     "data": {
      "text/plain": [
       "26497"
      ]
     },
     "execution_count": 62,
     "metadata": {},
     "output_type": "execute_result"
    }
   ],
   "source": [
    "# number of tracks with lyrics available\n",
    "data.shape[0]"
   ]
  },
  {
   "cell_type": "code",
   "execution_count": 63,
   "metadata": {},
   "outputs": [
    {
     "data": {
      "text/plain": [
       "1817"
      ]
     },
     "execution_count": 63,
     "metadata": {},
     "output_type": "execute_result"
    }
   ],
   "source": [
    "# number of missing lyrics for tracks sanity check\n",
    "temp.shape[0] - data.shape[0]"
   ]
  },
  {
   "cell_type": "code",
   "execution_count": 82,
   "metadata": {},
   "outputs": [
    {
     "data": {
      "text/html": [
       "<div>\n",
       "<style scoped>\n",
       "    .dataframe tbody tr th:only-of-type {\n",
       "        vertical-align: middle;\n",
       "    }\n",
       "\n",
       "    .dataframe tbody tr th {\n",
       "        vertical-align: top;\n",
       "    }\n",
       "\n",
       "    .dataframe thead th {\n",
       "        text-align: right;\n",
       "    }\n",
       "</style>\n",
       "<table border=\"1\" class=\"dataframe\">\n",
       "  <thead>\n",
       "    <tr style=\"text-align: right;\">\n",
       "      <th></th>\n",
       "      <th>sentiment_comp</th>\n",
       "      <th>sentiment_pos</th>\n",
       "      <th>sentiment_neg</th>\n",
       "      <th>sentiment_neu</th>\n",
       "      <th>f_k_grade</th>\n",
       "      <th>flesch_index</th>\n",
       "      <th>fog_index</th>\n",
       "      <th>difficult_words</th>\n",
       "      <th>num_syllables</th>\n",
       "      <th>num_words</th>\n",
       "      <th>num_lines</th>\n",
       "      <th>num_dup</th>\n",
       "      <th>lyricId</th>\n",
       "    </tr>\n",
       "  </thead>\n",
       "  <tbody>\n",
       "    <tr>\n",
       "      <th>count</th>\n",
       "      <td>26497.000000</td>\n",
       "      <td>26497.000000</td>\n",
       "      <td>26497.000000</td>\n",
       "      <td>26497.000000</td>\n",
       "      <td>26497.000000</td>\n",
       "      <td>26497.000000</td>\n",
       "      <td>26497.000000</td>\n",
       "      <td>26497.000000</td>\n",
       "      <td>26497.000000</td>\n",
       "      <td>26497.000000</td>\n",
       "      <td>26497.000000</td>\n",
       "      <td>26497.000000</td>\n",
       "      <td>26497.000000</td>\n",
       "    </tr>\n",
       "    <tr>\n",
       "      <th>mean</th>\n",
       "      <td>0.440801</td>\n",
       "      <td>0.151567</td>\n",
       "      <td>0.082976</td>\n",
       "      <td>0.765231</td>\n",
       "      <td>2.172952</td>\n",
       "      <td>95.876875</td>\n",
       "      <td>4.140244</td>\n",
       "      <td>122.361966</td>\n",
       "      <td>2303.809261</td>\n",
       "      <td>1744.336076</td>\n",
       "      <td>131.064271</td>\n",
       "      <td>18.624222</td>\n",
       "      <td>13249.000000</td>\n",
       "    </tr>\n",
       "    <tr>\n",
       "      <th>std</th>\n",
       "      <td>0.805340</td>\n",
       "      <td>0.090947</td>\n",
       "      <td>0.067189</td>\n",
       "      <td>0.098279</td>\n",
       "      <td>21.685839</td>\n",
       "      <td>57.631595</td>\n",
       "      <td>22.146523</td>\n",
       "      <td>536.885904</td>\n",
       "      <td>12737.721891</td>\n",
       "      <td>9715.872564</td>\n",
       "      <td>524.704188</td>\n",
       "      <td>69.713404</td>\n",
       "      <td>7649.169378</td>\n",
       "    </tr>\n",
       "    <tr>\n",
       "      <th>min</th>\n",
       "      <td>-1.000000</td>\n",
       "      <td>0.000000</td>\n",
       "      <td>0.000000</td>\n",
       "      <td>0.000000</td>\n",
       "      <td>-15.700000</td>\n",
       "      <td>-8030.630000</td>\n",
       "      <td>0.000000</td>\n",
       "      <td>0.000000</td>\n",
       "      <td>0.000000</td>\n",
       "      <td>0.000000</td>\n",
       "      <td>1.000000</td>\n",
       "      <td>0.000000</td>\n",
       "      <td>1.000000</td>\n",
       "    </tr>\n",
       "    <tr>\n",
       "      <th>25%</th>\n",
       "      <td>-0.381800</td>\n",
       "      <td>0.089000</td>\n",
       "      <td>0.034000</td>\n",
       "      <td>0.708000</td>\n",
       "      <td>0.400000</td>\n",
       "      <td>95.470000</td>\n",
       "      <td>2.700000</td>\n",
       "      <td>5.000000</td>\n",
       "      <td>232.000000</td>\n",
       "      <td>198.000000</td>\n",
       "      <td>29.000000</td>\n",
       "      <td>5.000000</td>\n",
       "      <td>6625.000000</td>\n",
       "    </tr>\n",
       "    <tr>\n",
       "      <th>50%</th>\n",
       "      <td>0.958000</td>\n",
       "      <td>0.131000</td>\n",
       "      <td>0.069000</td>\n",
       "      <td>0.777000</td>\n",
       "      <td>1.200000</td>\n",
       "      <td>98.720000</td>\n",
       "      <td>3.190000</td>\n",
       "      <td>9.000000</td>\n",
       "      <td>330.000000</td>\n",
       "      <td>281.000000</td>\n",
       "      <td>41.000000</td>\n",
       "      <td>12.000000</td>\n",
       "      <td>13249.000000</td>\n",
       "    </tr>\n",
       "    <tr>\n",
       "      <th>75%</th>\n",
       "      <td>0.993200</td>\n",
       "      <td>0.198000</td>\n",
       "      <td>0.114000</td>\n",
       "      <td>0.833000</td>\n",
       "      <td>2.100000</td>\n",
       "      <td>105.860000</td>\n",
       "      <td>3.830000</td>\n",
       "      <td>20.000000</td>\n",
       "      <td>527.000000</td>\n",
       "      <td>444.000000</td>\n",
       "      <td>60.000000</td>\n",
       "      <td>20.000000</td>\n",
       "      <td>19873.000000</td>\n",
       "    </tr>\n",
       "    <tr>\n",
       "      <th>max</th>\n",
       "      <td>1.000000</td>\n",
       "      <td>0.898000</td>\n",
       "      <td>0.710000</td>\n",
       "      <td>1.000000</td>\n",
       "      <td>3124.700000</td>\n",
       "      <td>206.840000</td>\n",
       "      <td>3206.950000</td>\n",
       "      <td>7411.000000</td>\n",
       "      <td>197553.000000</td>\n",
       "      <td>148516.000000</td>\n",
       "      <td>9300.000000</td>\n",
       "      <td>2104.000000</td>\n",
       "      <td>26497.000000</td>\n",
       "    </tr>\n",
       "  </tbody>\n",
       "</table>\n",
       "</div>"
      ],
      "text/plain": [
       "       sentiment_comp  sentiment_pos  sentiment_neg  sentiment_neu  \\\n",
       "count    26497.000000   26497.000000   26497.000000   26497.000000   \n",
       "mean         0.440801       0.151567       0.082976       0.765231   \n",
       "std          0.805340       0.090947       0.067189       0.098279   \n",
       "min         -1.000000       0.000000       0.000000       0.000000   \n",
       "25%         -0.381800       0.089000       0.034000       0.708000   \n",
       "50%          0.958000       0.131000       0.069000       0.777000   \n",
       "75%          0.993200       0.198000       0.114000       0.833000   \n",
       "max          1.000000       0.898000       0.710000       1.000000   \n",
       "\n",
       "          f_k_grade  flesch_index     fog_index  difficult_words  \\\n",
       "count  26497.000000  26497.000000  26497.000000     26497.000000   \n",
       "mean       2.172952     95.876875      4.140244       122.361966   \n",
       "std       21.685839     57.631595     22.146523       536.885904   \n",
       "min      -15.700000  -8030.630000      0.000000         0.000000   \n",
       "25%        0.400000     95.470000      2.700000         5.000000   \n",
       "50%        1.200000     98.720000      3.190000         9.000000   \n",
       "75%        2.100000    105.860000      3.830000        20.000000   \n",
       "max     3124.700000    206.840000   3206.950000      7411.000000   \n",
       "\n",
       "       num_syllables      num_words     num_lines       num_dup       lyricId  \n",
       "count   26497.000000   26497.000000  26497.000000  26497.000000  26497.000000  \n",
       "mean     2303.809261    1744.336076    131.064271     18.624222  13249.000000  \n",
       "std     12737.721891    9715.872564    524.704188     69.713404   7649.169378  \n",
       "min         0.000000       0.000000      1.000000      0.000000      1.000000  \n",
       "25%       232.000000     198.000000     29.000000      5.000000   6625.000000  \n",
       "50%       330.000000     281.000000     41.000000     12.000000  13249.000000  \n",
       "75%       527.000000     444.000000     60.000000     20.000000  19873.000000  \n",
       "max    197553.000000  148516.000000   9300.000000   2104.000000  26497.000000  "
      ]
     },
     "execution_count": 82,
     "metadata": {},
     "output_type": "execute_result"
    }
   ],
   "source": [
    "# plot sentiment histogram\n",
    "data.describe()"
   ]
  },
  {
   "cell_type": "code",
   "execution_count": 89,
   "metadata": {},
   "outputs": [
    {
     "data": {
      "text/plain": [
       "<AxesSubplot:>"
      ]
     },
     "execution_count": 89,
     "metadata": {},
     "output_type": "execute_result"
    },
    {
     "data": {
      "image/png": "[encoded data removed]",
      "text/plain": [
       "<Figure size 432x288 with 1 Axes>"
      ]
     },
     "metadata": {
      "needs_background": "light"
     },
     "output_type": "display_data"
    }
   ],
   "source": [
    "# there seems to some lyrics with data not relevant or completely bogus (eg lyricsid 568) \n",
    "# need to remove such entries and update charts -> possible reason for bad histograms \n",
    "# boxplots?\n",
    "\n",
    "data.boxplot(column=[\"sentiment_comp\"]) # overall positive sentiment"
   ]
  },
  {
   "cell_type": "code",
   "execution_count": 92,
   "metadata": {},
   "outputs": [
    {
     "data": {
      "text/plain": [
       "<AxesSubplot:>"
      ]
     },
     "execution_count": 92,
     "metadata": {},
     "output_type": "execute_result"
    },
    {
     "data": {
      "image/png": "[encoded data removed]",
      "text/plain": [
       "<Figure size 432x288 with 1 Axes>"
      ]
     },
     "metadata": {
      "needs_background": "light"
     },
     "output_type": "display_data"
    }
   ],
   "source": [
    "data.boxplot(column=[\"f_k_grade\"])#, , \n",
    "\n"
   ]
  },
  {
   "cell_type": "code",
   "execution_count": 91,
   "metadata": {},
   "outputs": [
    {
     "data": {
      "text/plain": [
       "<AxesSubplot:>"
      ]
     },
     "execution_count": 91,
     "metadata": {},
     "output_type": "execute_result"
    },
    {
     "data": {
      "image/png": "[encoded data removed]",
      "text/plain": [
       "<Figure size 432x288 with 1 Axes>"
      ]
     },
     "metadata": {
      "needs_background": "light"
     },
     "output_type": "display_data"
    }
   ],
   "source": [
    "data.boxplot(column=[\"flesch_index\"])"
   ]
  },
  {
   "cell_type": "code",
   "execution_count": 93,
   "metadata": {},
   "outputs": [
    {
     "data": {
      "text/plain": [
       "<AxesSubplot:>"
      ]
     },
     "execution_count": 93,
     "metadata": {},
     "output_type": "execute_result"
    },
    {
     "data": {
      "image/png": "[encoded data removed]",
      "text/plain": [
       "<Figure size 432x288 with 1 Axes>"
      ]
     },
     "metadata": {
      "needs_background": "light"
     },
     "output_type": "display_data"
    }
   ],
   "source": [
    "data.boxplot(column=[\"fog_index\"])"
   ]
  },
  {
   "cell_type": "code",
   "execution_count": 95,
   "metadata": {},
   "outputs": [],
   "source": [
    "# checking audio features\n",
    "cpaths = [interim_path + \"audio-feat/afeat_bb_hot_100_\" + str(x) + \".csv\" for x in range(1960,2021)]\n",
    "all_data = []\n",
    "for path in cpaths:\n",
    "    data = pd.read_csv(path)\n",
    "    for index, row in data.iterrows():\n",
    "        all_data.append({\n",
    "            \"artist\" : row[\"artist\"],\n",
    "            \"song\" : row[\"song\"],\n",
    "            \"lyricId\" : row[\"lyricId\"],\n",
    "            \"danceability\": row[\"danceability\"],\n",
    "            \"energy\": row[\"energy\"],\n",
    "            \"key\": row[\"key\"],\n",
    "            \"loudness\": row[\"loudness\"],\n",
    "            \"mode\": row[\"mode\"],\n",
    "            \"speechiness\": row[\"speechiness\"],\n",
    "            \"acousticness\": row[\"acousticness\"],\n",
    "            \"instrumentalness\": row[\"instrumentalness\"],\n",
    "            \"liveness\": row[\"liveness\"],\n",
    "            \"valence\": row[\"valence\"],\n",
    "            \"tempo\": row[\"tempo\"],\n",
    "            \"uri\": row[\"uri\"],\n",
    "            \"duration_ms\": row[\"duration_ms\"]\n",
    "        })\n",
    "AUDIO_FEAT_DATA = pd.DataFrame(all_data)"
   ]
  },
  {
   "cell_type": "code",
   "execution_count": 96,
   "metadata": {},
   "outputs": [
    {
     "data": {
      "text/html": [
       "<div>\n",
       "<style scoped>\n",
       "    .dataframe tbody tr th:only-of-type {\n",
       "        vertical-align: middle;\n",
       "    }\n",
       "\n",
       "    .dataframe tbody tr th {\n",
       "        vertical-align: top;\n",
       "    }\n",
       "\n",
       "    .dataframe thead th {\n",
       "        text-align: right;\n",
       "    }\n",
       "</style>\n",
       "<table border=\"1\" class=\"dataframe\">\n",
       "  <thead>\n",
       "    <tr style=\"text-align: right;\">\n",
       "      <th></th>\n",
       "      <th>artist</th>\n",
       "      <th>song</th>\n",
       "      <th>lyricId</th>\n",
       "      <th>danceability</th>\n",
       "      <th>energy</th>\n",
       "      <th>key</th>\n",
       "      <th>loudness</th>\n",
       "      <th>mode</th>\n",
       "      <th>speechiness</th>\n",
       "      <th>acousticness</th>\n",
       "      <th>instrumentalness</th>\n",
       "      <th>liveness</th>\n",
       "      <th>valence</th>\n",
       "      <th>tempo</th>\n",
       "      <th>uri</th>\n",
       "      <th>duration_ms</th>\n",
       "    </tr>\n",
       "  </thead>\n",
       "  <tbody>\n",
       "    <tr>\n",
       "      <th>0</th>\n",
       "      <td>Marty Robbins</td>\n",
       "      <td>El Paso</td>\n",
       "      <td>1</td>\n",
       "      <td>0.654</td>\n",
       "      <td>0.452</td>\n",
       "      <td>2</td>\n",
       "      <td>-9.709</td>\n",
       "      <td>1</td>\n",
       "      <td>0.0300</td>\n",
       "      <td>0.835</td>\n",
       "      <td>0.000029</td>\n",
       "      <td>0.160</td>\n",
       "      <td>0.691</td>\n",
       "      <td>106.662</td>\n",
       "      <td>spotify:track:4f8hBeMXMvssn6HtFAtblo</td>\n",
       "      <td>259307</td>\n",
       "    </tr>\n",
       "    <tr>\n",
       "      <th>1</th>\n",
       "      <td>Frankie Avalon</td>\n",
       "      <td>Why</td>\n",
       "      <td>2</td>\n",
       "      <td>0.510</td>\n",
       "      <td>0.349</td>\n",
       "      <td>5</td>\n",
       "      <td>-8.677</td>\n",
       "      <td>1</td>\n",
       "      <td>0.0264</td>\n",
       "      <td>0.762</td>\n",
       "      <td>0.000000</td>\n",
       "      <td>0.130</td>\n",
       "      <td>0.586</td>\n",
       "      <td>94.267</td>\n",
       "      <td>spotify:track:0CRxGsJrwOMQUuTr4yT5mX</td>\n",
       "      <td>157520</td>\n",
       "    </tr>\n",
       "    <tr>\n",
       "      <th>2</th>\n",
       "      <td>Miss Toni Fisher</td>\n",
       "      <td>The Big Hurt</td>\n",
       "      <td>3</td>\n",
       "      <td>0.624</td>\n",
       "      <td>0.557</td>\n",
       "      <td>0</td>\n",
       "      <td>-8.309</td>\n",
       "      <td>1</td>\n",
       "      <td>0.0299</td>\n",
       "      <td>0.783</td>\n",
       "      <td>0.000000</td>\n",
       "      <td>0.173</td>\n",
       "      <td>0.676</td>\n",
       "      <td>123.919</td>\n",
       "      <td>spotify:track:37Au0ObjCx4KD76YBe4Y9g</td>\n",
       "      <td>130973</td>\n",
       "    </tr>\n",
       "    <tr>\n",
       "      <th>3</th>\n",
       "      <td>Johnny Preston</td>\n",
       "      <td>Running Bear</td>\n",
       "      <td>4</td>\n",
       "      <td>0.772</td>\n",
       "      <td>0.297</td>\n",
       "      <td>5</td>\n",
       "      <td>-14.679</td>\n",
       "      <td>0</td>\n",
       "      <td>0.0530</td>\n",
       "      <td>0.854</td>\n",
       "      <td>0.000008</td>\n",
       "      <td>0.125</td>\n",
       "      <td>0.822</td>\n",
       "      <td>119.987</td>\n",
       "      <td>spotify:track:1RYznli2VNO7FCbW1Hq4KM</td>\n",
       "      <td>158200</td>\n",
       "    </tr>\n",
       "    <tr>\n",
       "      <th>4</th>\n",
       "      <td>Guy Mitchell</td>\n",
       "      <td>Heartaches By The Number</td>\n",
       "      <td>5</td>\n",
       "      <td>0.584</td>\n",
       "      <td>0.589</td>\n",
       "      <td>5</td>\n",
       "      <td>-11.203</td>\n",
       "      <td>1</td>\n",
       "      <td>0.0718</td>\n",
       "      <td>0.463</td>\n",
       "      <td>0.000015</td>\n",
       "      <td>0.069</td>\n",
       "      <td>0.842</td>\n",
       "      <td>172.484</td>\n",
       "      <td>spotify:track:0mmveflIg5uKskiCOdRV3e</td>\n",
       "      <td>154296</td>\n",
       "    </tr>\n",
       "  </tbody>\n",
       "</table>\n",
       "</div>"
      ],
      "text/plain": [
       "             artist                      song  lyricId  danceability  energy  \\\n",
       "0     Marty Robbins                   El Paso        1         0.654   0.452   \n",
       "1    Frankie Avalon                       Why        2         0.510   0.349   \n",
       "2  Miss Toni Fisher              The Big Hurt        3         0.624   0.557   \n",
       "3    Johnny Preston              Running Bear        4         0.772   0.297   \n",
       "4      Guy Mitchell  Heartaches By The Number        5         0.584   0.589   \n",
       "\n",
       "   key  loudness  mode  speechiness  acousticness  instrumentalness  liveness  \\\n",
       "0    2    -9.709     1       0.0300         0.835          0.000029     0.160   \n",
       "1    5    -8.677     1       0.0264         0.762          0.000000     0.130   \n",
       "2    0    -8.309     1       0.0299         0.783          0.000000     0.173   \n",
       "3    5   -14.679     0       0.0530         0.854          0.000008     0.125   \n",
       "4    5   -11.203     1       0.0718         0.463          0.000015     0.069   \n",
       "\n",
       "   valence    tempo                                   uri  duration_ms  \n",
       "0    0.691  106.662  spotify:track:4f8hBeMXMvssn6HtFAtblo       259307  \n",
       "1    0.586   94.267  spotify:track:0CRxGsJrwOMQUuTr4yT5mX       157520  \n",
       "2    0.676  123.919  spotify:track:37Au0ObjCx4KD76YBe4Y9g       130973  \n",
       "3    0.822  119.987  spotify:track:1RYznli2VNO7FCbW1Hq4KM       158200  \n",
       "4    0.842  172.484  spotify:track:0mmveflIg5uKskiCOdRV3e       154296  "
      ]
     },
     "execution_count": 96,
     "metadata": {},
     "output_type": "execute_result"
    }
   ],
   "source": [
    "data = AUDIO_FEAT_DATA\n",
    "data.head()"
   ]
  },
  {
   "cell_type": "code",
   "execution_count": 98,
   "metadata": {},
   "outputs": [
    {
     "data": {
      "text/plain": [
       "20276"
      ]
     },
     "execution_count": 98,
     "metadata": {},
     "output_type": "execute_result"
    }
   ],
   "source": [
    "data.shape[0] # quite loss of some data"
   ]
  },
  {
   "cell_type": "code",
   "execution_count": 99,
   "metadata": {},
   "outputs": [
    {
     "data": {
      "text/html": [
       "<div>\n",
       "<style scoped>\n",
       "    .dataframe tbody tr th:only-of-type {\n",
       "        vertical-align: middle;\n",
       "    }\n",
       "\n",
       "    .dataframe tbody tr th {\n",
       "        vertical-align: top;\n",
       "    }\n",
       "\n",
       "    .dataframe thead th {\n",
       "        text-align: right;\n",
       "    }\n",
       "</style>\n",
       "<table border=\"1\" class=\"dataframe\">\n",
       "  <thead>\n",
       "    <tr style=\"text-align: right;\">\n",
       "      <th></th>\n",
       "      <th>lyricId</th>\n",
       "      <th>danceability</th>\n",
       "      <th>energy</th>\n",
       "      <th>key</th>\n",
       "      <th>loudness</th>\n",
       "      <th>mode</th>\n",
       "      <th>speechiness</th>\n",
       "      <th>acousticness</th>\n",
       "      <th>instrumentalness</th>\n",
       "      <th>liveness</th>\n",
       "      <th>valence</th>\n",
       "      <th>tempo</th>\n",
       "      <th>duration_ms</th>\n",
       "    </tr>\n",
       "  </thead>\n",
       "  <tbody>\n",
       "    <tr>\n",
       "      <th>count</th>\n",
       "      <td>20276.000000</td>\n",
       "      <td>20276.000000</td>\n",
       "      <td>20276.000000</td>\n",
       "      <td>20276.000000</td>\n",
       "      <td>20276.000000</td>\n",
       "      <td>20276.000000</td>\n",
       "      <td>20276.000000</td>\n",
       "      <td>20276.000000</td>\n",
       "      <td>20276.000000</td>\n",
       "      <td>20276.000000</td>\n",
       "      <td>20276.000000</td>\n",
       "      <td>20276.000000</td>\n",
       "      <td>2.027600e+04</td>\n",
       "    </tr>\n",
       "    <tr>\n",
       "      <th>mean</th>\n",
       "      <td>12875.291478</td>\n",
       "      <td>0.592993</td>\n",
       "      <td>0.617999</td>\n",
       "      <td>5.201914</td>\n",
       "      <td>-8.815516</td>\n",
       "      <td>0.735895</td>\n",
       "      <td>0.066240</td>\n",
       "      <td>0.293985</td>\n",
       "      <td>0.029883</td>\n",
       "      <td>0.192712</td>\n",
       "      <td>0.607414</td>\n",
       "      <td>120.741176</td>\n",
       "      <td>2.220613e+05</td>\n",
       "    </tr>\n",
       "    <tr>\n",
       "      <th>std</th>\n",
       "      <td>7461.967282</td>\n",
       "      <td>0.151287</td>\n",
       "      <td>0.200603</td>\n",
       "      <td>3.554205</td>\n",
       "      <td>3.589312</td>\n",
       "      <td>0.440867</td>\n",
       "      <td>0.074995</td>\n",
       "      <td>0.279646</td>\n",
       "      <td>0.126115</td>\n",
       "      <td>0.162928</td>\n",
       "      <td>0.238327</td>\n",
       "      <td>27.801507</td>\n",
       "      <td>6.724216e+04</td>\n",
       "    </tr>\n",
       "    <tr>\n",
       "      <th>min</th>\n",
       "      <td>1.000000</td>\n",
       "      <td>0.000000</td>\n",
       "      <td>0.007000</td>\n",
       "      <td>0.000000</td>\n",
       "      <td>-29.519000</td>\n",
       "      <td>0.000000</td>\n",
       "      <td>0.000000</td>\n",
       "      <td>0.000002</td>\n",
       "      <td>0.000000</td>\n",
       "      <td>0.013000</td>\n",
       "      <td>0.000000</td>\n",
       "      <td>0.000000</td>\n",
       "      <td>3.065300e+04</td>\n",
       "    </tr>\n",
       "    <tr>\n",
       "      <th>25%</th>\n",
       "      <td>6489.750000</td>\n",
       "      <td>0.494000</td>\n",
       "      <td>0.472000</td>\n",
       "      <td>2.000000</td>\n",
       "      <td>-11.201250</td>\n",
       "      <td>0.000000</td>\n",
       "      <td>0.031800</td>\n",
       "      <td>0.046400</td>\n",
       "      <td>0.000000</td>\n",
       "      <td>0.089700</td>\n",
       "      <td>0.422000</td>\n",
       "      <td>100.009000</td>\n",
       "      <td>1.761330e+05</td>\n",
       "    </tr>\n",
       "    <tr>\n",
       "      <th>50%</th>\n",
       "      <td>12719.500000</td>\n",
       "      <td>0.601000</td>\n",
       "      <td>0.633000</td>\n",
       "      <td>5.000000</td>\n",
       "      <td>-8.433000</td>\n",
       "      <td>1.000000</td>\n",
       "      <td>0.039800</td>\n",
       "      <td>0.199000</td>\n",
       "      <td>0.000007</td>\n",
       "      <td>0.130000</td>\n",
       "      <td>0.631000</td>\n",
       "      <td>119.515500</td>\n",
       "      <td>2.148670e+05</td>\n",
       "    </tr>\n",
       "    <tr>\n",
       "      <th>75%</th>\n",
       "      <td>19160.250000</td>\n",
       "      <td>0.700000</td>\n",
       "      <td>0.780000</td>\n",
       "      <td>8.000000</td>\n",
       "      <td>-6.009000</td>\n",
       "      <td>1.000000</td>\n",
       "      <td>0.061100</td>\n",
       "      <td>0.504000</td>\n",
       "      <td>0.000600</td>\n",
       "      <td>0.248000</td>\n",
       "      <td>0.809000</td>\n",
       "      <td>136.399250</td>\n",
       "      <td>2.542535e+05</td>\n",
       "    </tr>\n",
       "    <tr>\n",
       "      <th>max</th>\n",
       "      <td>26497.000000</td>\n",
       "      <td>0.988000</td>\n",
       "      <td>0.998000</td>\n",
       "      <td>11.000000</td>\n",
       "      <td>2.291000</td>\n",
       "      <td>1.000000</td>\n",
       "      <td>0.951000</td>\n",
       "      <td>0.995000</td>\n",
       "      <td>0.982000</td>\n",
       "      <td>0.999000</td>\n",
       "      <td>0.991000</td>\n",
       "      <td>241.009000</td>\n",
       "      <td>1.561133e+06</td>\n",
       "    </tr>\n",
       "  </tbody>\n",
       "</table>\n",
       "</div>"
      ],
      "text/plain": [
       "            lyricId  danceability        energy           key      loudness  \\\n",
       "count  20276.000000  20276.000000  20276.000000  20276.000000  20276.000000   \n",
       "mean   12875.291478      0.592993      0.617999      5.201914     -8.815516   \n",
       "std     7461.967282      0.151287      0.200603      3.554205      3.589312   \n",
       "min        1.000000      0.000000      0.007000      0.000000    -29.519000   \n",
       "25%     6489.750000      0.494000      0.472000      2.000000    -11.201250   \n",
       "50%    12719.500000      0.601000      0.633000      5.000000     -8.433000   \n",
       "75%    19160.250000      0.700000      0.780000      8.000000     -6.009000   \n",
       "max    26497.000000      0.988000      0.998000     11.000000      2.291000   \n",
       "\n",
       "               mode   speechiness  acousticness  instrumentalness  \\\n",
       "count  20276.000000  20276.000000  20276.000000      20276.000000   \n",
       "mean       0.735895      0.066240      0.293985          0.029883   \n",
       "std        0.440867      0.074995      0.279646          0.126115   \n",
       "min        0.000000      0.000000      0.000002          0.000000   \n",
       "25%        0.000000      0.031800      0.046400          0.000000   \n",
       "50%        1.000000      0.039800      0.199000          0.000007   \n",
       "75%        1.000000      0.061100      0.504000          0.000600   \n",
       "max        1.000000      0.951000      0.995000          0.982000   \n",
       "\n",
       "           liveness       valence         tempo   duration_ms  \n",
       "count  20276.000000  20276.000000  20276.000000  2.027600e+04  \n",
       "mean       0.192712      0.607414    120.741176  2.220613e+05  \n",
       "std        0.162928      0.238327     27.801507  6.724216e+04  \n",
       "min        0.013000      0.000000      0.000000  3.065300e+04  \n",
       "25%        0.089700      0.422000    100.009000  1.761330e+05  \n",
       "50%        0.130000      0.631000    119.515500  2.148670e+05  \n",
       "75%        0.248000      0.809000    136.399250  2.542535e+05  \n",
       "max        0.999000      0.991000    241.009000  1.561133e+06  "
      ]
     },
     "execution_count": 99,
     "metadata": {},
     "output_type": "execute_result"
    }
   ],
   "source": [
    "data.describe()"
   ]
  },
  {
   "cell_type": "code",
   "execution_count": 100,
   "metadata": {},
   "outputs": [
    {
     "data": {
      "text/plain": [
       "<AxesSubplot:>"
      ]
     },
     "execution_count": 100,
     "metadata": {},
     "output_type": "execute_result"
    },
    {
     "data": {
      "image/png": "[encoded data removed]",
      "text/plain": [
       "<Figure size 432x288 with 1 Axes>"
      ]
     },
     "metadata": {
      "needs_background": "light"
     },
     "output_type": "display_data"
    }
   ],
   "source": [
    "data.boxplot(column=['tempo'])"
   ]
  },
  {
   "cell_type": "code",
   "execution_count": 101,
   "metadata": {},
   "outputs": [
    {
     "data": {
      "text/plain": [
       "<AxesSubplot:>"
      ]
     },
     "execution_count": 101,
     "metadata": {},
     "output_type": "execute_result"
    },
    {
     "data": {
      "image/png": "[encoded data removed]",
      "text/plain": [
       "<Figure size 432x288 with 1 Axes>"
      ]
     },
     "metadata": {
      "needs_background": "light"
     },
     "output_type": "display_data"
    }
   ],
   "source": [
    "data.boxplot(column=['energy'])"
   ]
  },
  {
   "cell_type": "code",
   "execution_count": 107,
   "metadata": {},
   "outputs": [
    {
     "data": {
      "text/plain": [
       "array([[<AxesSubplot:title={'center':'key'}>]], dtype=object)"
      ]
     },
     "execution_count": 107,
     "metadata": {},
     "output_type": "execute_result"
    },
    {
     "data": {
      "image/png": "[encoded data removed]",
      "text/plain": [
       "<Figure size 432x288 with 1 Axes>"
      ]
     },
     "metadata": {
      "needs_background": "light"
     },
     "output_type": "display_data"
    }
   ],
   "source": [
    "data.hist(column=['key'],bins=12)"
   ]
  },
  {
   "cell_type": "code",
   "execution_count": 108,
   "metadata": {},
   "outputs": [
    {
     "data": {
      "text/plain": [
       "<AxesSubplot:>"
      ]
     },
     "execution_count": 108,
     "metadata": {},
     "output_type": "execute_result"
    },
    {
     "data": {
      "image/png": "[encoded data removed]",
      "text/plain": [
       "<Figure size 432x288 with 1 Axes>"
      ]
     },
     "metadata": {
      "needs_background": "light"
     },
     "output_type": "display_data"
    }
   ],
   "source": [
    "data.boxplot(column=[\"danceability\"])"
   ]
  },
  {
   "cell_type": "code",
   "execution_count": null,
   "metadata": {},
   "outputs": [],
   "source": []
  }
 ],
 "metadata": {
  "kernelspec": {
   "display_name": "Python 3",
   "language": "python",
   "name": "python3"
  },
  "language_info": {
   "codemirror_mode": {
    "name": "ipython",
    "version": 3
   },
   "file_extension": ".py",
   "mimetype": "text/x-python",
   "name": "python",
   "nbconvert_exporter": "python",
   "pygments_lexer": "ipython3",
   "version": "3.9.5"
  }
 },
 "nbformat": 4,
 "nbformat_minor": 4
}
