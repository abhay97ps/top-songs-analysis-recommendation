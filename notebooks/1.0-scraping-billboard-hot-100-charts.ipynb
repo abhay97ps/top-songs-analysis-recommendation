{
 "metadata": {
  "language_info": {
   "codemirror_mode": {
    "name": "ipython",
    "version": 3
   },
   "file_extension": ".py",
   "mimetype": "text/x-python",
   "name": "python",
   "nbconvert_exporter": "python",
   "pygments_lexer": "ipython3",
   "version": "3.9.5"
  },
  "orig_nbformat": 2,
  "kernelspec": {
   "name": "python395jvsc74a57bd0cdfdcfad88728baa092b25c6c9a12dffc84e5419cef4440abd00150d4bcc4479",
   "display_name": "Python 3.9.5 64-bit"
  },
  "metadata": {
   "interpreter": {
    "hash": "cdfdcfad88728baa092b25c6c9a12dffc84e5419cef4440abd00150d4bcc4479"
   }
  }
 },
 "nbformat": 4,
 "nbformat_minor": 2,
 "cells": [
  {
   "cell_type": "code",
   "execution_count": 2,
   "metadata": {},
   "outputs": [],
   "source": [
    "from urllib.request import urlopen, Request\n",
    "from bs4 import BeautifulSoup as soup\n",
    "from datetime import date, timedelta\n",
    "import csv\n",
    "import time\n",
    "import os"
   ]
  },
  {
   "cell_type": "code",
   "execution_count": 3,
   "metadata": {},
   "outputs": [],
   "source": [
    "def get_hot_100_for_week(ymdtime):\n",
    "    '''\n",
    "    ymdtime : string (eg: '2021-03-06'), weeks are marked by saturday to change date get new week data\n",
    "    return \n",
    "    '''\n",
    "    url = 'https://www.billboard.com/charts/hot-100/'+ymdtime\n",
    "\n",
    "    # grabbing the page\n",
    "    headers = {\n",
    "        'User-Agent': 'Mozilla/5.0 (Windows NT 6.1) AppleWebKit/537.36 (KHTML, like Gecko) Chrome/41.0.2228.0 Safari/537.3'}\n",
    "    # with urlopen(url) as response:\n",
    "    #    page_html = response.read()\n",
    "\n",
    "    req = Request(url=url, headers=headers)\n",
    "    page_html = urlopen(req).read()\n",
    "\n",
    "    # HTML parsing\n",
    "    page_soup = soup(page_html, \"html.parser\")\n",
    "\n",
    "    # Grabs all information related to the top 100 songs\n",
    "    containers = page_soup.find_all(\n",
    "        'li', {'class': 'chart-list__element display--flex'})\n",
    "\n",
    "    tbr_data = []\n",
    "    rank = 1\n",
    "\n",
    "    for container in containers:\n",
    "\n",
    "       # Grabs the song name\n",
    "        song = container.find(\n",
    "            'span', {'class': 'chart-element__information__song'}).text\n",
    "\n",
    "        # Grabs the artist name\n",
    "        artist = container.find(\n",
    "            'span', {'class': 'chart-element__information__artist'}).text\n",
    "\n",
    "        # Grabs the song's position last week\n",
    "        last_week = container.find('span', {\n",
    "                                   'class': 'chart-element__meta text--center color--secondary text--last'}).text\n",
    "\n",
    "        # Grabs the song's peak position\n",
    "        peak_position = container.find('span', {\n",
    "                                       'class': 'chart-element__meta text--center color--secondary text--peak'}).text\n",
    "\n",
    "        # Grabs the song's duration in the hot 100 (in weeks)\n",
    "        weeks_on_chart = container.find('span', {\n",
    "                                        'class': 'chart-element__meta text--center color--secondary text--week'}).text\n",
    "\n",
    "        # format rank, artist, song, rank last week, peak pos, weeks on chart, date\n",
    "        tbr_data.append([rank, artist, song, last_week,\n",
    "                         peak_position, weeks_on_chart, ymdtime])\n",
    "\n",
    "        rank += 1\n",
    "\n",
    "    return tbr_data"
   ]
  },
  {
   "cell_type": "code",
   "execution_count": 4,
   "metadata": {},
   "outputs": [],
   "source": [
    "fields=['rank', 'artist', 'song', 'rank_last_week', 'peak_position', 'weeks_on_chart', 'date']\n",
    "\n",
    "def writeToFile(l, yr):\n",
    "    path = '../data/raw/charts/bb_hot_100_'+str(yr)+'.csv'\n",
    "    if not os.path.isfile(path):\n",
    "        with open(path, 'w') as myfile:\n",
    "            writer = csv.writer(myfile)\n",
    "            writer.writerow(fields)\n",
    "    with open(path, 'a') as myfile:\n",
    "       writer = csv.writer(myfile)\n",
    "       writer.writerows(l) \n",
    "    time.sleep(5)"
   ]
  },
  {
   "cell_type": "code",
   "execution_count": null,
   "metadata": {},
   "outputs": [],
   "source": [
    "# set year\n",
    "#yr = 1964\n",
    "# testing and writing column names\n",
    "#writeToFile(fields, yr)\n",
    "# first saturday of year 1960, 1, 2 as data on billboard starts from 1958\n",
    "start_date = date(1960, 1, 2)\n",
    "# end date is till year 2020\n",
    "end_date = date(2020, 12, 31)\n",
    "# day difference 7 days\n",
    "td = timedelta(days=7)\n",
    "while start_date <= end_date:\n",
    "    week_day = start_date.strftime(\"%Y-%m-%d\")\n",
    "    bbHot100 = get_hot_100_for_week(week_day)\n",
    "    writeToFile(bbHot100, week_day.split('-')[0])\n",
    "    start_date += td"
   ]
  }
 ]
}